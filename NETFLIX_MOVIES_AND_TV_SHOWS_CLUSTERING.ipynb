{
  "nbformat": 4,
  "nbformat_minor": 0,
  "metadata": {
    "colab": {
      "provenance": [],
      "collapsed_sections": [],
      "include_colab_link": true
    },
    "kernelspec": {
      "name": "python3",
      "display_name": "Python 3"
    },
    "language_info": {
      "name": "python"
    }
  },
  "cells": [
    {
      "cell_type": "markdown",
      "metadata": {
        "id": "view-in-github",
        "colab_type": "text"
      },
      "source": [
        "<a href=\"https://colab.research.google.com/github/vbhsharma7/Netflix-movies-and-tv-show-clustering-capstone/blob/main/NETFLIX_MOVIES_AND_TV_SHOWS_CLUSTERING.ipynb\" target=\"_parent\"><img src=\"https://colab.research.google.com/assets/colab-badge.svg\" alt=\"Open In Colab\"/></a>"
      ]
    },
    {
      "cell_type": "markdown",
      "source": [
        "![download.jpg](data:image/jpeg;base64,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)"
      ],
      "metadata": {
        "id": "pxTOiPxGj49f"
      }
    },
    {
      "cell_type": "markdown",
      "metadata": {
        "id": "LGcl5Bv9ed6u"
      },
      "source": [
        "# **Problem Statement**"
      ]
    },
    {
      "cell_type": "markdown",
      "metadata": {
        "id": "8M5kyFaVjzXk"
      },
      "source": [
        "This dataset consists of tv shows and movies available on Netflix as of 2019. The dataset is collected from Flixable which is a third-party Netflix search engine.\n",
        "\n",
        "In 2018, they released an interesting report which shows that the number of TV shows on Netflix has nearly tripled since 2010. The streaming service’s number of movies has decreased by more than 2,000 titles since 2010, while its number of TV shows has nearly tripled. It will be interesting to explore what all other insights can be obtained from the same dataset.\n",
        "\n",
        "Integrating this dataset with other external datasets such as IMDB ratings, rotten tomatoes can also provide many interesting findings."
      ]
    },
    {
      "cell_type": "markdown",
      "metadata": {
        "id": "tLx5cJO8hzb1"
      },
      "source": [
        "## <b>In this  project, you are required to do </b>\n",
        "1. Exploratory Data Analysis \n",
        "\n",
        "2. Understanding what type content is available in different countries\n",
        "\n",
        "3. Is Netflix has increasingly focusing on TV rather than movies in recent years.\n",
        "4. Clustering similar content by matching text-based features\n",
        "\n"
      ]
    },
    {
      "cell_type": "markdown",
      "metadata": {
        "id": "AzGDqdC4fZ-b"
      },
      "source": [
        "# **Attribute Information**"
      ]
    },
    {
      "cell_type": "markdown",
      "metadata": {
        "id": "jhfLYargscGV"
      },
      "source": [
        "1. show_id : Unique ID for every Movie / Tv Show\n",
        "\n",
        "2. type : Identifier - A Movie or TV Show\n",
        "\n",
        "3. title : Title of the Movie / Tv Show\n",
        "\n",
        "4. director : Director of the Movie\n",
        "\n",
        "5. cast : Actors involved in the movie / show\n",
        "\n",
        "6. country : Country where the movie / show was produced\n",
        "\n",
        "7. date_added : Date it was added on Netflix\n",
        "\n",
        "8. release_year : Actual Releaseyear of the movie / show\n",
        "\n",
        "9. rating : TV Rating of the movie / show\n",
        "\n",
        "10. duration : Total Duration - in minutes or number of seasons\n",
        "\n",
        "11. listed_in : Genere\n",
        "\n",
        "12. description: The Summary description"
      ]
    },
    {
      "cell_type": "code",
      "source": [
        "# Import libraries.\n",
        "import pandas as pd\n",
        "import numpy as np\n",
        "import seaborn as sns\n",
        "import matplotlib.pyplot as plt\n",
        "%matplotlib inline\n",
        "\n",
        "import plotly.graph_objects as go\n",
        "import plotly.express as px\n",
        "from plotly.subplots import make_subplots\n",
        "from plotly.offline import init_notebook_mode, iplot\n",
        "import plotly.offline as po\n",
        "\n",
        "from collections import Counter\n",
        "from sklearn import preprocessing\n",
        "from sklearn.feature_extraction.text import TfidfVectorizer\n",
        "from sklearn.model_selection import train_test_split, KFold\n",
        "from nltk.corpus import stopwords\n",
        "from nltk.stem.snowball import SnowballStemmer\n",
        "from sklearn.decomposition import PCA\n",
        "\n",
        "import warnings\n",
        "warnings.filterwarnings(\"ignore\")"
      ],
      "metadata": {
        "id": "fL_T2hEfizEj"
      },
      "execution_count": 1,
      "outputs": []
    },
    {
      "cell_type": "code",
      "source": [
        "from google.colab import drive\n",
        "drive.mount('/content/drive')"
      ],
      "metadata": {
        "colab": {
          "base_uri": "https://localhost:8080/"
        },
        "id": "vtdaUVe7-0xH",
        "outputId": "db803932-08b4-47df-ca32-81c026a392c8"
      },
      "execution_count": 2,
      "outputs": [
        {
          "output_type": "stream",
          "name": "stdout",
          "text": [
            "Mounted at /content/drive\n"
          ]
        }
      ]
    },
    {
      "cell_type": "code",
      "source": [
        "#read the data\n",
        "df = pd.read_csv('/content/drive/MyDrive/Capstone netflix movies and tv shows - vibhu sharma/ NETFLIX MOVIES AND TV SHOWS CLUSTERING.csv')"
      ],
      "metadata": {
        "id": "IjtQpyl1_P5N"
      },
      "execution_count": 3,
      "outputs": []
    },
    {
      "cell_type": "code",
      "source": [
        "# Basic info about the data.\n",
        "df.info()"
      ],
      "metadata": {
        "id": "XLR6RRspADMj",
        "colab": {
          "base_uri": "https://localhost:8080/"
        },
        "outputId": "d9a915af-a42a-4412-e2e3-c6401d0e5572"
      },
      "execution_count": 4,
      "outputs": [
        {
          "output_type": "stream",
          "name": "stdout",
          "text": [
            "<class 'pandas.core.frame.DataFrame'>\n",
            "RangeIndex: 7787 entries, 0 to 7786\n",
            "Data columns (total 12 columns):\n",
            " #   Column        Non-Null Count  Dtype \n",
            "---  ------        --------------  ----- \n",
            " 0   show_id       7787 non-null   object\n",
            " 1   type          7787 non-null   object\n",
            " 2   title         7787 non-null   object\n",
            " 3   director      5398 non-null   object\n",
            " 4   cast          7069 non-null   object\n",
            " 5   country       7280 non-null   object\n",
            " 6   date_added    7777 non-null   object\n",
            " 7   release_year  7787 non-null   int64 \n",
            " 8   rating        7780 non-null   object\n",
            " 9   duration      7787 non-null   object\n",
            " 10  listed_in     7787 non-null   object\n",
            " 11  description   7787 non-null   object\n",
            "dtypes: int64(1), object(11)\n",
            "memory usage: 730.2+ KB\n"
          ]
        }
      ]
    },
    {
      "cell_type": "code",
      "source": [
        "# Shape of the data.\n",
        "df.shape"
      ],
      "metadata": {
        "colab": {
          "base_uri": "https://localhost:8080/"
        },
        "id": "3i0bFxgWbPSc",
        "outputId": "0e311cba-1db5-4f9d-dbcf-77c81895bc1c"
      },
      "execution_count": 5,
      "outputs": [
        {
          "output_type": "execute_result",
          "data": {
            "text/plain": [
              "(7787, 12)"
            ]
          },
          "metadata": {},
          "execution_count": 5
        }
      ]
    },
    {
      "cell_type": "markdown",
      "source": [
        "**There are 7787 rows and 12 columns provided in the data**"
      ],
      "metadata": {
        "id": "VbYjXqzUcSf7"
      }
    },
    {
      "cell_type": "code",
      "source": [
        "# Fisrt 4 values.\n",
        "df.head(4)"
      ],
      "metadata": {
        "colab": {
          "base_uri": "https://localhost:8080/",
          "height": 288
        },
        "id": "tGzeWiHDbbaL",
        "outputId": "12304bfa-0cbd-4983-d203-cc892590b67e"
      },
      "execution_count": 6,
      "outputs": [
        {
          "output_type": "execute_result",
          "data": {
            "text/plain": [
              "  show_id     type  title           director  \\\n",
              "0      s1  TV Show     3%                NaN   \n",
              "1      s2    Movie   7:19  Jorge Michel Grau   \n",
              "2      s3    Movie  23:59       Gilbert Chan   \n",
              "3      s4    Movie      9        Shane Acker   \n",
              "\n",
              "                                                cast        country  \\\n",
              "0  João Miguel, Bianca Comparato, Michel Gomes, R...         Brazil   \n",
              "1  Demián Bichir, Héctor Bonilla, Oscar Serrano, ...         Mexico   \n",
              "2  Tedd Chan, Stella Chung, Henley Hii, Lawrence ...      Singapore   \n",
              "3  Elijah Wood, John C. Reilly, Jennifer Connelly...  United States   \n",
              "\n",
              "          date_added  release_year rating   duration  \\\n",
              "0    August 14, 2020          2020  TV-MA  4 Seasons   \n",
              "1  December 23, 2016          2016  TV-MA     93 min   \n",
              "2  December 20, 2018          2011      R     78 min   \n",
              "3  November 16, 2017          2009  PG-13     80 min   \n",
              "\n",
              "                                           listed_in  \\\n",
              "0  International TV Shows, TV Dramas, TV Sci-Fi &...   \n",
              "1                       Dramas, International Movies   \n",
              "2                Horror Movies, International Movies   \n",
              "3  Action & Adventure, Independent Movies, Sci-Fi...   \n",
              "\n",
              "                                         description  \n",
              "0  In a future where the elite inhabit an island ...  \n",
              "1  After a devastating earthquake hits Mexico Cit...  \n",
              "2  When an army recruit is found dead, his fellow...  \n",
              "3  In a postapocalyptic world, rag-doll robots hi...  "
            ],
            "text/html": [
              "\n",
              "  <div id=\"df-415acc34-d762-4e8a-840b-e5b02874a0f3\">\n",
              "    <div class=\"colab-df-container\">\n",
              "      <div>\n",
              "<style scoped>\n",
              "    .dataframe tbody tr th:only-of-type {\n",
              "        vertical-align: middle;\n",
              "    }\n",
              "\n",
              "    .dataframe tbody tr th {\n",
              "        vertical-align: top;\n",
              "    }\n",
              "\n",
              "    .dataframe thead th {\n",
              "        text-align: right;\n",
              "    }\n",
              "</style>\n",
              "<table border=\"1\" class=\"dataframe\">\n",
              "  <thead>\n",
              "    <tr style=\"text-align: right;\">\n",
              "      <th></th>\n",
              "      <th>show_id</th>\n",
              "      <th>type</th>\n",
              "      <th>title</th>\n",
              "      <th>director</th>\n",
              "      <th>cast</th>\n",
              "      <th>country</th>\n",
              "      <th>date_added</th>\n",
              "      <th>release_year</th>\n",
              "      <th>rating</th>\n",
              "      <th>duration</th>\n",
              "      <th>listed_in</th>\n",
              "      <th>description</th>\n",
              "    </tr>\n",
              "  </thead>\n",
              "  <tbody>\n",
              "    <tr>\n",
              "      <th>0</th>\n",
              "      <td>s1</td>\n",
              "      <td>TV Show</td>\n",
              "      <td>3%</td>\n",
              "      <td>NaN</td>\n",
              "      <td>João Miguel, Bianca Comparato, Michel Gomes, R...</td>\n",
              "      <td>Brazil</td>\n",
              "      <td>August 14, 2020</td>\n",
              "      <td>2020</td>\n",
              "      <td>TV-MA</td>\n",
              "      <td>4 Seasons</td>\n",
              "      <td>International TV Shows, TV Dramas, TV Sci-Fi &amp;...</td>\n",
              "      <td>In a future where the elite inhabit an island ...</td>\n",
              "    </tr>\n",
              "    <tr>\n",
              "      <th>1</th>\n",
              "      <td>s2</td>\n",
              "      <td>Movie</td>\n",
              "      <td>7:19</td>\n",
              "      <td>Jorge Michel Grau</td>\n",
              "      <td>Demián Bichir, Héctor Bonilla, Oscar Serrano, ...</td>\n",
              "      <td>Mexico</td>\n",
              "      <td>December 23, 2016</td>\n",
              "      <td>2016</td>\n",
              "      <td>TV-MA</td>\n",
              "      <td>93 min</td>\n",
              "      <td>Dramas, International Movies</td>\n",
              "      <td>After a devastating earthquake hits Mexico Cit...</td>\n",
              "    </tr>\n",
              "    <tr>\n",
              "      <th>2</th>\n",
              "      <td>s3</td>\n",
              "      <td>Movie</td>\n",
              "      <td>23:59</td>\n",
              "      <td>Gilbert Chan</td>\n",
              "      <td>Tedd Chan, Stella Chung, Henley Hii, Lawrence ...</td>\n",
              "      <td>Singapore</td>\n",
              "      <td>December 20, 2018</td>\n",
              "      <td>2011</td>\n",
              "      <td>R</td>\n",
              "      <td>78 min</td>\n",
              "      <td>Horror Movies, International Movies</td>\n",
              "      <td>When an army recruit is found dead, his fellow...</td>\n",
              "    </tr>\n",
              "    <tr>\n",
              "      <th>3</th>\n",
              "      <td>s4</td>\n",
              "      <td>Movie</td>\n",
              "      <td>9</td>\n",
              "      <td>Shane Acker</td>\n",
              "      <td>Elijah Wood, John C. Reilly, Jennifer Connelly...</td>\n",
              "      <td>United States</td>\n",
              "      <td>November 16, 2017</td>\n",
              "      <td>2009</td>\n",
              "      <td>PG-13</td>\n",
              "      <td>80 min</td>\n",
              "      <td>Action &amp; Adventure, Independent Movies, Sci-Fi...</td>\n",
              "      <td>In a postapocalyptic world, rag-doll robots hi...</td>\n",
              "    </tr>\n",
              "  </tbody>\n",
              "</table>\n",
              "</div>\n",
              "      <button class=\"colab-df-convert\" onclick=\"convertToInteractive('df-415acc34-d762-4e8a-840b-e5b02874a0f3')\"\n",
              "              title=\"Convert this dataframe to an interactive table.\"\n",
              "              style=\"display:none;\">\n",
              "        \n",
              "  <svg xmlns=\"http://www.w3.org/2000/svg\" height=\"24px\"viewBox=\"0 0 24 24\"\n",
              "       width=\"24px\">\n",
              "    <path d=\"M0 0h24v24H0V0z\" fill=\"none\"/>\n",
              "    <path d=\"M18.56 5.44l.94 2.06.94-2.06 2.06-.94-2.06-.94-.94-2.06-.94 2.06-2.06.94zm-11 1L8.5 8.5l.94-2.06 2.06-.94-2.06-.94L8.5 2.5l-.94 2.06-2.06.94zm10 10l.94 2.06.94-2.06 2.06-.94-2.06-.94-.94-2.06-.94 2.06-2.06.94z\"/><path d=\"M17.41 7.96l-1.37-1.37c-.4-.4-.92-.59-1.43-.59-.52 0-1.04.2-1.43.59L10.3 9.45l-7.72 7.72c-.78.78-.78 2.05 0 2.83L4 21.41c.39.39.9.59 1.41.59.51 0 1.02-.2 1.41-.59l7.78-7.78 2.81-2.81c.8-.78.8-2.07 0-2.86zM5.41 20L4 18.59l7.72-7.72 1.47 1.35L5.41 20z\"/>\n",
              "  </svg>\n",
              "      </button>\n",
              "      \n",
              "  <style>\n",
              "    .colab-df-container {\n",
              "      display:flex;\n",
              "      flex-wrap:wrap;\n",
              "      gap: 12px;\n",
              "    }\n",
              "\n",
              "    .colab-df-convert {\n",
              "      background-color: #E8F0FE;\n",
              "      border: none;\n",
              "      border-radius: 50%;\n",
              "      cursor: pointer;\n",
              "      display: none;\n",
              "      fill: #1967D2;\n",
              "      height: 32px;\n",
              "      padding: 0 0 0 0;\n",
              "      width: 32px;\n",
              "    }\n",
              "\n",
              "    .colab-df-convert:hover {\n",
              "      background-color: #E2EBFA;\n",
              "      box-shadow: 0px 1px 2px rgba(60, 64, 67, 0.3), 0px 1px 3px 1px rgba(60, 64, 67, 0.15);\n",
              "      fill: #174EA6;\n",
              "    }\n",
              "\n",
              "    [theme=dark] .colab-df-convert {\n",
              "      background-color: #3B4455;\n",
              "      fill: #D2E3FC;\n",
              "    }\n",
              "\n",
              "    [theme=dark] .colab-df-convert:hover {\n",
              "      background-color: #434B5C;\n",
              "      box-shadow: 0px 1px 3px 1px rgba(0, 0, 0, 0.15);\n",
              "      filter: drop-shadow(0px 1px 2px rgba(0, 0, 0, 0.3));\n",
              "      fill: #FFFFFF;\n",
              "    }\n",
              "  </style>\n",
              "\n",
              "      <script>\n",
              "        const buttonEl =\n",
              "          document.querySelector('#df-415acc34-d762-4e8a-840b-e5b02874a0f3 button.colab-df-convert');\n",
              "        buttonEl.style.display =\n",
              "          google.colab.kernel.accessAllowed ? 'block' : 'none';\n",
              "\n",
              "        async function convertToInteractive(key) {\n",
              "          const element = document.querySelector('#df-415acc34-d762-4e8a-840b-e5b02874a0f3');\n",
              "          const dataTable =\n",
              "            await google.colab.kernel.invokeFunction('convertToInteractive',\n",
              "                                                     [key], {});\n",
              "          if (!dataTable) return;\n",
              "\n",
              "          const docLinkHtml = 'Like what you see? Visit the ' +\n",
              "            '<a target=\"_blank\" href=https://colab.research.google.com/notebooks/data_table.ipynb>data table notebook</a>'\n",
              "            + ' to learn more about interactive tables.';\n",
              "          element.innerHTML = '';\n",
              "          dataTable['output_type'] = 'display_data';\n",
              "          await google.colab.output.renderOutput(dataTable, element);\n",
              "          const docLink = document.createElement('div');\n",
              "          docLink.innerHTML = docLinkHtml;\n",
              "          element.appendChild(docLink);\n",
              "        }\n",
              "      </script>\n",
              "    </div>\n",
              "  </div>\n",
              "  "
            ]
          },
          "metadata": {},
          "execution_count": 6
        }
      ]
    },
    {
      "cell_type": "code",
      "source": [
        "# stastical data of dataset\n",
        "df.describe(include='all')"
      ],
      "metadata": {
        "colab": {
          "base_uri": "https://localhost:8080/",
          "height": 394
        },
        "id": "01SCBDA9byXk",
        "outputId": "9871e7bd-017e-4560-933c-ecce0cb0e686"
      },
      "execution_count": 7,
      "outputs": [
        {
          "output_type": "execute_result",
          "data": {
            "text/plain": [
              "       show_id   type title                director                cast  \\\n",
              "count     7787   7787  7787                    5398                7069   \n",
              "unique    7787      2  7787                    4049                6831   \n",
              "top         s1  Movie    3%  Raúl Campos, Jan Suter  David Attenborough   \n",
              "freq         1   5377     1                      18                  18   \n",
              "mean       NaN    NaN   NaN                     NaN                 NaN   \n",
              "std        NaN    NaN   NaN                     NaN                 NaN   \n",
              "min        NaN    NaN   NaN                     NaN                 NaN   \n",
              "25%        NaN    NaN   NaN                     NaN                 NaN   \n",
              "50%        NaN    NaN   NaN                     NaN                 NaN   \n",
              "75%        NaN    NaN   NaN                     NaN                 NaN   \n",
              "max        NaN    NaN   NaN                     NaN                 NaN   \n",
              "\n",
              "              country       date_added  release_year rating  duration  \\\n",
              "count            7280             7777   7787.000000   7780      7787   \n",
              "unique            681             1565           NaN     14       216   \n",
              "top     United States  January 1, 2020           NaN  TV-MA  1 Season   \n",
              "freq             2555              118           NaN   2863      1608   \n",
              "mean              NaN              NaN   2013.932580    NaN       NaN   \n",
              "std               NaN              NaN      8.757395    NaN       NaN   \n",
              "min               NaN              NaN   1925.000000    NaN       NaN   \n",
              "25%               NaN              NaN   2013.000000    NaN       NaN   \n",
              "50%               NaN              NaN   2017.000000    NaN       NaN   \n",
              "75%               NaN              NaN   2018.000000    NaN       NaN   \n",
              "max               NaN              NaN   2021.000000    NaN       NaN   \n",
              "\n",
              "            listed_in                                        description  \n",
              "count            7787                                               7787  \n",
              "unique            492                                               7769  \n",
              "top     Documentaries  Multiple women report their husbands as missin...  \n",
              "freq              334                                                  3  \n",
              "mean              NaN                                                NaN  \n",
              "std               NaN                                                NaN  \n",
              "min               NaN                                                NaN  \n",
              "25%               NaN                                                NaN  \n",
              "50%               NaN                                                NaN  \n",
              "75%               NaN                                                NaN  \n",
              "max               NaN                                                NaN  "
            ],
            "text/html": [
              "\n",
              "  <div id=\"df-54036d52-352d-421b-a90f-d45a0cfb8230\">\n",
              "    <div class=\"colab-df-container\">\n",
              "      <div>\n",
              "<style scoped>\n",
              "    .dataframe tbody tr th:only-of-type {\n",
              "        vertical-align: middle;\n",
              "    }\n",
              "\n",
              "    .dataframe tbody tr th {\n",
              "        vertical-align: top;\n",
              "    }\n",
              "\n",
              "    .dataframe thead th {\n",
              "        text-align: right;\n",
              "    }\n",
              "</style>\n",
              "<table border=\"1\" class=\"dataframe\">\n",
              "  <thead>\n",
              "    <tr style=\"text-align: right;\">\n",
              "      <th></th>\n",
              "      <th>show_id</th>\n",
              "      <th>type</th>\n",
              "      <th>title</th>\n",
              "      <th>director</th>\n",
              "      <th>cast</th>\n",
              "      <th>country</th>\n",
              "      <th>date_added</th>\n",
              "      <th>release_year</th>\n",
              "      <th>rating</th>\n",
              "      <th>duration</th>\n",
              "      <th>listed_in</th>\n",
              "      <th>description</th>\n",
              "    </tr>\n",
              "  </thead>\n",
              "  <tbody>\n",
              "    <tr>\n",
              "      <th>count</th>\n",
              "      <td>7787</td>\n",
              "      <td>7787</td>\n",
              "      <td>7787</td>\n",
              "      <td>5398</td>\n",
              "      <td>7069</td>\n",
              "      <td>7280</td>\n",
              "      <td>7777</td>\n",
              "      <td>7787.000000</td>\n",
              "      <td>7780</td>\n",
              "      <td>7787</td>\n",
              "      <td>7787</td>\n",
              "      <td>7787</td>\n",
              "    </tr>\n",
              "    <tr>\n",
              "      <th>unique</th>\n",
              "      <td>7787</td>\n",
              "      <td>2</td>\n",
              "      <td>7787</td>\n",
              "      <td>4049</td>\n",
              "      <td>6831</td>\n",
              "      <td>681</td>\n",
              "      <td>1565</td>\n",
              "      <td>NaN</td>\n",
              "      <td>14</td>\n",
              "      <td>216</td>\n",
              "      <td>492</td>\n",
              "      <td>7769</td>\n",
              "    </tr>\n",
              "    <tr>\n",
              "      <th>top</th>\n",
              "      <td>s1</td>\n",
              "      <td>Movie</td>\n",
              "      <td>3%</td>\n",
              "      <td>Raúl Campos, Jan Suter</td>\n",
              "      <td>David Attenborough</td>\n",
              "      <td>United States</td>\n",
              "      <td>January 1, 2020</td>\n",
              "      <td>NaN</td>\n",
              "      <td>TV-MA</td>\n",
              "      <td>1 Season</td>\n",
              "      <td>Documentaries</td>\n",
              "      <td>Multiple women report their husbands as missin...</td>\n",
              "    </tr>\n",
              "    <tr>\n",
              "      <th>freq</th>\n",
              "      <td>1</td>\n",
              "      <td>5377</td>\n",
              "      <td>1</td>\n",
              "      <td>18</td>\n",
              "      <td>18</td>\n",
              "      <td>2555</td>\n",
              "      <td>118</td>\n",
              "      <td>NaN</td>\n",
              "      <td>2863</td>\n",
              "      <td>1608</td>\n",
              "      <td>334</td>\n",
              "      <td>3</td>\n",
              "    </tr>\n",
              "    <tr>\n",
              "      <th>mean</th>\n",
              "      <td>NaN</td>\n",
              "      <td>NaN</td>\n",
              "      <td>NaN</td>\n",
              "      <td>NaN</td>\n",
              "      <td>NaN</td>\n",
              "      <td>NaN</td>\n",
              "      <td>NaN</td>\n",
              "      <td>2013.932580</td>\n",
              "      <td>NaN</td>\n",
              "      <td>NaN</td>\n",
              "      <td>NaN</td>\n",
              "      <td>NaN</td>\n",
              "    </tr>\n",
              "    <tr>\n",
              "      <th>std</th>\n",
              "      <td>NaN</td>\n",
              "      <td>NaN</td>\n",
              "      <td>NaN</td>\n",
              "      <td>NaN</td>\n",
              "      <td>NaN</td>\n",
              "      <td>NaN</td>\n",
              "      <td>NaN</td>\n",
              "      <td>8.757395</td>\n",
              "      <td>NaN</td>\n",
              "      <td>NaN</td>\n",
              "      <td>NaN</td>\n",
              "      <td>NaN</td>\n",
              "    </tr>\n",
              "    <tr>\n",
              "      <th>min</th>\n",
              "      <td>NaN</td>\n",
              "      <td>NaN</td>\n",
              "      <td>NaN</td>\n",
              "      <td>NaN</td>\n",
              "      <td>NaN</td>\n",
              "      <td>NaN</td>\n",
              "      <td>NaN</td>\n",
              "      <td>1925.000000</td>\n",
              "      <td>NaN</td>\n",
              "      <td>NaN</td>\n",
              "      <td>NaN</td>\n",
              "      <td>NaN</td>\n",
              "    </tr>\n",
              "    <tr>\n",
              "      <th>25%</th>\n",
              "      <td>NaN</td>\n",
              "      <td>NaN</td>\n",
              "      <td>NaN</td>\n",
              "      <td>NaN</td>\n",
              "      <td>NaN</td>\n",
              "      <td>NaN</td>\n",
              "      <td>NaN</td>\n",
              "      <td>2013.000000</td>\n",
              "      <td>NaN</td>\n",
              "      <td>NaN</td>\n",
              "      <td>NaN</td>\n",
              "      <td>NaN</td>\n",
              "    </tr>\n",
              "    <tr>\n",
              "      <th>50%</th>\n",
              "      <td>NaN</td>\n",
              "      <td>NaN</td>\n",
              "      <td>NaN</td>\n",
              "      <td>NaN</td>\n",
              "      <td>NaN</td>\n",
              "      <td>NaN</td>\n",
              "      <td>NaN</td>\n",
              "      <td>2017.000000</td>\n",
              "      <td>NaN</td>\n",
              "      <td>NaN</td>\n",
              "      <td>NaN</td>\n",
              "      <td>NaN</td>\n",
              "    </tr>\n",
              "    <tr>\n",
              "      <th>75%</th>\n",
              "      <td>NaN</td>\n",
              "      <td>NaN</td>\n",
              "      <td>NaN</td>\n",
              "      <td>NaN</td>\n",
              "      <td>NaN</td>\n",
              "      <td>NaN</td>\n",
              "      <td>NaN</td>\n",
              "      <td>2018.000000</td>\n",
              "      <td>NaN</td>\n",
              "      <td>NaN</td>\n",
              "      <td>NaN</td>\n",
              "      <td>NaN</td>\n",
              "    </tr>\n",
              "    <tr>\n",
              "      <th>max</th>\n",
              "      <td>NaN</td>\n",
              "      <td>NaN</td>\n",
              "      <td>NaN</td>\n",
              "      <td>NaN</td>\n",
              "      <td>NaN</td>\n",
              "      <td>NaN</td>\n",
              "      <td>NaN</td>\n",
              "      <td>2021.000000</td>\n",
              "      <td>NaN</td>\n",
              "      <td>NaN</td>\n",
              "      <td>NaN</td>\n",
              "      <td>NaN</td>\n",
              "    </tr>\n",
              "  </tbody>\n",
              "</table>\n",
              "</div>\n",
              "      <button class=\"colab-df-convert\" onclick=\"convertToInteractive('df-54036d52-352d-421b-a90f-d45a0cfb8230')\"\n",
              "              title=\"Convert this dataframe to an interactive table.\"\n",
              "              style=\"display:none;\">\n",
              "        \n",
              "  <svg xmlns=\"http://www.w3.org/2000/svg\" height=\"24px\"viewBox=\"0 0 24 24\"\n",
              "       width=\"24px\">\n",
              "    <path d=\"M0 0h24v24H0V0z\" fill=\"none\"/>\n",
              "    <path d=\"M18.56 5.44l.94 2.06.94-2.06 2.06-.94-2.06-.94-.94-2.06-.94 2.06-2.06.94zm-11 1L8.5 8.5l.94-2.06 2.06-.94-2.06-.94L8.5 2.5l-.94 2.06-2.06.94zm10 10l.94 2.06.94-2.06 2.06-.94-2.06-.94-.94-2.06-.94 2.06-2.06.94z\"/><path d=\"M17.41 7.96l-1.37-1.37c-.4-.4-.92-.59-1.43-.59-.52 0-1.04.2-1.43.59L10.3 9.45l-7.72 7.72c-.78.78-.78 2.05 0 2.83L4 21.41c.39.39.9.59 1.41.59.51 0 1.02-.2 1.41-.59l7.78-7.78 2.81-2.81c.8-.78.8-2.07 0-2.86zM5.41 20L4 18.59l7.72-7.72 1.47 1.35L5.41 20z\"/>\n",
              "  </svg>\n",
              "      </button>\n",
              "      \n",
              "  <style>\n",
              "    .colab-df-container {\n",
              "      display:flex;\n",
              "      flex-wrap:wrap;\n",
              "      gap: 12px;\n",
              "    }\n",
              "\n",
              "    .colab-df-convert {\n",
              "      background-color: #E8F0FE;\n",
              "      border: none;\n",
              "      border-radius: 50%;\n",
              "      cursor: pointer;\n",
              "      display: none;\n",
              "      fill: #1967D2;\n",
              "      height: 32px;\n",
              "      padding: 0 0 0 0;\n",
              "      width: 32px;\n",
              "    }\n",
              "\n",
              "    .colab-df-convert:hover {\n",
              "      background-color: #E2EBFA;\n",
              "      box-shadow: 0px 1px 2px rgba(60, 64, 67, 0.3), 0px 1px 3px 1px rgba(60, 64, 67, 0.15);\n",
              "      fill: #174EA6;\n",
              "    }\n",
              "\n",
              "    [theme=dark] .colab-df-convert {\n",
              "      background-color: #3B4455;\n",
              "      fill: #D2E3FC;\n",
              "    }\n",
              "\n",
              "    [theme=dark] .colab-df-convert:hover {\n",
              "      background-color: #434B5C;\n",
              "      box-shadow: 0px 1px 3px 1px rgba(0, 0, 0, 0.15);\n",
              "      filter: drop-shadow(0px 1px 2px rgba(0, 0, 0, 0.3));\n",
              "      fill: #FFFFFF;\n",
              "    }\n",
              "  </style>\n",
              "\n",
              "      <script>\n",
              "        const buttonEl =\n",
              "          document.querySelector('#df-54036d52-352d-421b-a90f-d45a0cfb8230 button.colab-df-convert');\n",
              "        buttonEl.style.display =\n",
              "          google.colab.kernel.accessAllowed ? 'block' : 'none';\n",
              "\n",
              "        async function convertToInteractive(key) {\n",
              "          const element = document.querySelector('#df-54036d52-352d-421b-a90f-d45a0cfb8230');\n",
              "          const dataTable =\n",
              "            await google.colab.kernel.invokeFunction('convertToInteractive',\n",
              "                                                     [key], {});\n",
              "          if (!dataTable) return;\n",
              "\n",
              "          const docLinkHtml = 'Like what you see? Visit the ' +\n",
              "            '<a target=\"_blank\" href=https://colab.research.google.com/notebooks/data_table.ipynb>data table notebook</a>'\n",
              "            + ' to learn more about interactive tables.';\n",
              "          element.innerHTML = '';\n",
              "          dataTable['output_type'] = 'display_data';\n",
              "          await google.colab.output.renderOutput(dataTable, element);\n",
              "          const docLink = document.createElement('div');\n",
              "          docLink.innerHTML = docLinkHtml;\n",
              "          element.appendChild(docLink);\n",
              "        }\n",
              "      </script>\n",
              "    </div>\n",
              "  </div>\n",
              "  "
            ]
          },
          "metadata": {},
          "execution_count": 7
        }
      ]
    },
    {
      "cell_type": "code",
      "source": [
        "# Creating a copy of a dataset\n",
        "\n",
        "df1 = df.copy()"
      ],
      "metadata": {
        "id": "xEiXHXIYb0pV"
      },
      "execution_count": 8,
      "outputs": []
    },
    {
      "cell_type": "markdown",
      "source": [
        "**Data cleaning**"
      ],
      "metadata": {
        "id": "p1Sc3U0dey6v"
      }
    },
    {
      "cell_type": "code",
      "source": [
        "# Finding duplicates True = duplicated value\n",
        "df1.duplicated().value_counts()"
      ],
      "metadata": {
        "colab": {
          "base_uri": "https://localhost:8080/"
        },
        "id": "MEf7sR6we2st",
        "outputId": "8089680d-7217-4a44-f96c-4a661b3ffacb"
      },
      "execution_count": 9,
      "outputs": [
        {
          "output_type": "execute_result",
          "data": {
            "text/plain": [
              "False    7787\n",
              "dtype: int64"
            ]
          },
          "metadata": {},
          "execution_count": 9
        }
      ]
    },
    {
      "cell_type": "code",
      "source": [
        "# Finding null values\n",
        "\n",
        "df1.isnull().sum().sort_values(ascending = False)"
      ],
      "metadata": {
        "colab": {
          "base_uri": "https://localhost:8080/"
        },
        "id": "4RyOWYDCe-np",
        "outputId": "d6d5fed9-3e7a-46cd-dc92-8993e4fc2ca1"
      },
      "execution_count": 10,
      "outputs": [
        {
          "output_type": "execute_result",
          "data": {
            "text/plain": [
              "director        2389\n",
              "cast             718\n",
              "country          507\n",
              "date_added        10\n",
              "rating             7\n",
              "show_id            0\n",
              "type               0\n",
              "title              0\n",
              "release_year       0\n",
              "duration           0\n",
              "listed_in          0\n",
              "description        0\n",
              "dtype: int64"
            ]
          },
          "metadata": {},
          "execution_count": 10
        }
      ]
    },
    {
      "cell_type": "code",
      "source": [
        "#Replacing missing values in 'director' column with value 'unknown'\n",
        "df1['director'].replace(np.nan, \"unknown\",inplace  = True)\n",
        "\n",
        "#Replacing missing values in 'cast' column with value 'unknown'\n",
        "df1['cast'].replace(np.nan, \"unknown\",inplace  = True)\n",
        "\n",
        "#Replacing missing values in 'country' column with mode\n",
        "df1['country']= df1['country'].fillna(df1['country'].mode()[0])\n",
        "\n",
        "#Replacing missing values in 'rating' column with value most frequent rating i.e. mode\n",
        "df1['rating'] = df1['rating'].fillna(df1['rating'].mode()[0])\n",
        "\n",
        "# Dropping the null values in 'date_added'\n",
        "df1 = df1[df1['date_added'].notna()]"
      ],
      "metadata": {
        "id": "UyYGUjdKflGB"
      },
      "execution_count": 11,
      "outputs": []
    },
    {
      "cell_type": "code",
      "source": [
        "df1.info()"
      ],
      "metadata": {
        "colab": {
          "base_uri": "https://localhost:8080/"
        },
        "id": "jrfyzfmZi30l",
        "outputId": "76c67173-00a7-4b84-ecd8-c49ded316692"
      },
      "execution_count": 12,
      "outputs": [
        {
          "output_type": "stream",
          "name": "stdout",
          "text": [
            "<class 'pandas.core.frame.DataFrame'>\n",
            "Int64Index: 7777 entries, 0 to 7786\n",
            "Data columns (total 12 columns):\n",
            " #   Column        Non-Null Count  Dtype \n",
            "---  ------        --------------  ----- \n",
            " 0   show_id       7777 non-null   object\n",
            " 1   type          7777 non-null   object\n",
            " 2   title         7777 non-null   object\n",
            " 3   director      7777 non-null   object\n",
            " 4   cast          7777 non-null   object\n",
            " 5   country       7777 non-null   object\n",
            " 6   date_added    7777 non-null   object\n",
            " 7   release_year  7777 non-null   int64 \n",
            " 8   rating        7777 non-null   object\n",
            " 9   duration      7777 non-null   object\n",
            " 10  listed_in     7777 non-null   object\n",
            " 11  description   7777 non-null   object\n",
            "dtypes: int64(1), object(11)\n",
            "memory usage: 789.9+ KB\n"
          ]
        }
      ]
    },
    {
      "cell_type": "code",
      "source": [
        "#checking the date format\n",
        "df1.head(4)"
      ],
      "metadata": {
        "colab": {
          "base_uri": "https://localhost:8080/",
          "height": 288
        },
        "id": "2V9ZdaQLpXlw",
        "outputId": "6fc0d103-1e0b-469e-82c9-a4a650a31b06"
      },
      "execution_count": 13,
      "outputs": [
        {
          "output_type": "execute_result",
          "data": {
            "text/plain": [
              "  show_id     type  title           director  \\\n",
              "0      s1  TV Show     3%            unknown   \n",
              "1      s2    Movie   7:19  Jorge Michel Grau   \n",
              "2      s3    Movie  23:59       Gilbert Chan   \n",
              "3      s4    Movie      9        Shane Acker   \n",
              "\n",
              "                                                cast        country  \\\n",
              "0  João Miguel, Bianca Comparato, Michel Gomes, R...         Brazil   \n",
              "1  Demián Bichir, Héctor Bonilla, Oscar Serrano, ...         Mexico   \n",
              "2  Tedd Chan, Stella Chung, Henley Hii, Lawrence ...      Singapore   \n",
              "3  Elijah Wood, John C. Reilly, Jennifer Connelly...  United States   \n",
              "\n",
              "          date_added  release_year rating   duration  \\\n",
              "0    August 14, 2020          2020  TV-MA  4 Seasons   \n",
              "1  December 23, 2016          2016  TV-MA     93 min   \n",
              "2  December 20, 2018          2011      R     78 min   \n",
              "3  November 16, 2017          2009  PG-13     80 min   \n",
              "\n",
              "                                           listed_in  \\\n",
              "0  International TV Shows, TV Dramas, TV Sci-Fi &...   \n",
              "1                       Dramas, International Movies   \n",
              "2                Horror Movies, International Movies   \n",
              "3  Action & Adventure, Independent Movies, Sci-Fi...   \n",
              "\n",
              "                                         description  \n",
              "0  In a future where the elite inhabit an island ...  \n",
              "1  After a devastating earthquake hits Mexico Cit...  \n",
              "2  When an army recruit is found dead, his fellow...  \n",
              "3  In a postapocalyptic world, rag-doll robots hi...  "
            ],
            "text/html": [
              "\n",
              "  <div id=\"df-803892bc-a988-4d56-95c8-362e1495d8c6\">\n",
              "    <div class=\"colab-df-container\">\n",
              "      <div>\n",
              "<style scoped>\n",
              "    .dataframe tbody tr th:only-of-type {\n",
              "        vertical-align: middle;\n",
              "    }\n",
              "\n",
              "    .dataframe tbody tr th {\n",
              "        vertical-align: top;\n",
              "    }\n",
              "\n",
              "    .dataframe thead th {\n",
              "        text-align: right;\n",
              "    }\n",
              "</style>\n",
              "<table border=\"1\" class=\"dataframe\">\n",
              "  <thead>\n",
              "    <tr style=\"text-align: right;\">\n",
              "      <th></th>\n",
              "      <th>show_id</th>\n",
              "      <th>type</th>\n",
              "      <th>title</th>\n",
              "      <th>director</th>\n",
              "      <th>cast</th>\n",
              "      <th>country</th>\n",
              "      <th>date_added</th>\n",
              "      <th>release_year</th>\n",
              "      <th>rating</th>\n",
              "      <th>duration</th>\n",
              "      <th>listed_in</th>\n",
              "      <th>description</th>\n",
              "    </tr>\n",
              "  </thead>\n",
              "  <tbody>\n",
              "    <tr>\n",
              "      <th>0</th>\n",
              "      <td>s1</td>\n",
              "      <td>TV Show</td>\n",
              "      <td>3%</td>\n",
              "      <td>unknown</td>\n",
              "      <td>João Miguel, Bianca Comparato, Michel Gomes, R...</td>\n",
              "      <td>Brazil</td>\n",
              "      <td>August 14, 2020</td>\n",
              "      <td>2020</td>\n",
              "      <td>TV-MA</td>\n",
              "      <td>4 Seasons</td>\n",
              "      <td>International TV Shows, TV Dramas, TV Sci-Fi &amp;...</td>\n",
              "      <td>In a future where the elite inhabit an island ...</td>\n",
              "    </tr>\n",
              "    <tr>\n",
              "      <th>1</th>\n",
              "      <td>s2</td>\n",
              "      <td>Movie</td>\n",
              "      <td>7:19</td>\n",
              "      <td>Jorge Michel Grau</td>\n",
              "      <td>Demián Bichir, Héctor Bonilla, Oscar Serrano, ...</td>\n",
              "      <td>Mexico</td>\n",
              "      <td>December 23, 2016</td>\n",
              "      <td>2016</td>\n",
              "      <td>TV-MA</td>\n",
              "      <td>93 min</td>\n",
              "      <td>Dramas, International Movies</td>\n",
              "      <td>After a devastating earthquake hits Mexico Cit...</td>\n",
              "    </tr>\n",
              "    <tr>\n",
              "      <th>2</th>\n",
              "      <td>s3</td>\n",
              "      <td>Movie</td>\n",
              "      <td>23:59</td>\n",
              "      <td>Gilbert Chan</td>\n",
              "      <td>Tedd Chan, Stella Chung, Henley Hii, Lawrence ...</td>\n",
              "      <td>Singapore</td>\n",
              "      <td>December 20, 2018</td>\n",
              "      <td>2011</td>\n",
              "      <td>R</td>\n",
              "      <td>78 min</td>\n",
              "      <td>Horror Movies, International Movies</td>\n",
              "      <td>When an army recruit is found dead, his fellow...</td>\n",
              "    </tr>\n",
              "    <tr>\n",
              "      <th>3</th>\n",
              "      <td>s4</td>\n",
              "      <td>Movie</td>\n",
              "      <td>9</td>\n",
              "      <td>Shane Acker</td>\n",
              "      <td>Elijah Wood, John C. Reilly, Jennifer Connelly...</td>\n",
              "      <td>United States</td>\n",
              "      <td>November 16, 2017</td>\n",
              "      <td>2009</td>\n",
              "      <td>PG-13</td>\n",
              "      <td>80 min</td>\n",
              "      <td>Action &amp; Adventure, Independent Movies, Sci-Fi...</td>\n",
              "      <td>In a postapocalyptic world, rag-doll robots hi...</td>\n",
              "    </tr>\n",
              "  </tbody>\n",
              "</table>\n",
              "</div>\n",
              "      <button class=\"colab-df-convert\" onclick=\"convertToInteractive('df-803892bc-a988-4d56-95c8-362e1495d8c6')\"\n",
              "              title=\"Convert this dataframe to an interactive table.\"\n",
              "              style=\"display:none;\">\n",
              "        \n",
              "  <svg xmlns=\"http://www.w3.org/2000/svg\" height=\"24px\"viewBox=\"0 0 24 24\"\n",
              "       width=\"24px\">\n",
              "    <path d=\"M0 0h24v24H0V0z\" fill=\"none\"/>\n",
              "    <path d=\"M18.56 5.44l.94 2.06.94-2.06 2.06-.94-2.06-.94-.94-2.06-.94 2.06-2.06.94zm-11 1L8.5 8.5l.94-2.06 2.06-.94-2.06-.94L8.5 2.5l-.94 2.06-2.06.94zm10 10l.94 2.06.94-2.06 2.06-.94-2.06-.94-.94-2.06-.94 2.06-2.06.94z\"/><path d=\"M17.41 7.96l-1.37-1.37c-.4-.4-.92-.59-1.43-.59-.52 0-1.04.2-1.43.59L10.3 9.45l-7.72 7.72c-.78.78-.78 2.05 0 2.83L4 21.41c.39.39.9.59 1.41.59.51 0 1.02-.2 1.41-.59l7.78-7.78 2.81-2.81c.8-.78.8-2.07 0-2.86zM5.41 20L4 18.59l7.72-7.72 1.47 1.35L5.41 20z\"/>\n",
              "  </svg>\n",
              "      </button>\n",
              "      \n",
              "  <style>\n",
              "    .colab-df-container {\n",
              "      display:flex;\n",
              "      flex-wrap:wrap;\n",
              "      gap: 12px;\n",
              "    }\n",
              "\n",
              "    .colab-df-convert {\n",
              "      background-color: #E8F0FE;\n",
              "      border: none;\n",
              "      border-radius: 50%;\n",
              "      cursor: pointer;\n",
              "      display: none;\n",
              "      fill: #1967D2;\n",
              "      height: 32px;\n",
              "      padding: 0 0 0 0;\n",
              "      width: 32px;\n",
              "    }\n",
              "\n",
              "    .colab-df-convert:hover {\n",
              "      background-color: #E2EBFA;\n",
              "      box-shadow: 0px 1px 2px rgba(60, 64, 67, 0.3), 0px 1px 3px 1px rgba(60, 64, 67, 0.15);\n",
              "      fill: #174EA6;\n",
              "    }\n",
              "\n",
              "    [theme=dark] .colab-df-convert {\n",
              "      background-color: #3B4455;\n",
              "      fill: #D2E3FC;\n",
              "    }\n",
              "\n",
              "    [theme=dark] .colab-df-convert:hover {\n",
              "      background-color: #434B5C;\n",
              "      box-shadow: 0px 1px 3px 1px rgba(0, 0, 0, 0.15);\n",
              "      filter: drop-shadow(0px 1px 2px rgba(0, 0, 0, 0.3));\n",
              "      fill: #FFFFFF;\n",
              "    }\n",
              "  </style>\n",
              "\n",
              "      <script>\n",
              "        const buttonEl =\n",
              "          document.querySelector('#df-803892bc-a988-4d56-95c8-362e1495d8c6 button.colab-df-convert');\n",
              "        buttonEl.style.display =\n",
              "          google.colab.kernel.accessAllowed ? 'block' : 'none';\n",
              "\n",
              "        async function convertToInteractive(key) {\n",
              "          const element = document.querySelector('#df-803892bc-a988-4d56-95c8-362e1495d8c6');\n",
              "          const dataTable =\n",
              "            await google.colab.kernel.invokeFunction('convertToInteractive',\n",
              "                                                     [key], {});\n",
              "          if (!dataTable) return;\n",
              "\n",
              "          const docLinkHtml = 'Like what you see? Visit the ' +\n",
              "            '<a target=\"_blank\" href=https://colab.research.google.com/notebooks/data_table.ipynb>data table notebook</a>'\n",
              "            + ' to learn more about interactive tables.';\n",
              "          element.innerHTML = '';\n",
              "          dataTable['output_type'] = 'display_data';\n",
              "          await google.colab.output.renderOutput(dataTable, element);\n",
              "          const docLink = document.createElement('div');\n",
              "          docLink.innerHTML = docLinkHtml;\n",
              "          element.appendChild(docLink);\n",
              "        }\n",
              "      </script>\n",
              "    </div>\n",
              "  </div>\n",
              "  "
            ]
          },
          "metadata": {},
          "execution_count": 13
        }
      ]
    },
    {
      "cell_type": "markdown",
      "source": [
        "**Exploratory Data Analysis:**"
      ],
      "metadata": {
        "id": "1h6v6iuFq6Tw"
      }
    },
    {
      "cell_type": "code",
      "source": [
        "#plotting pie chart on type feature\n",
        "df2=df1['type'].value_counts().sort_values()\n",
        "myexplode=[0.1,0.1]\n",
        "colour=['c','r']\n",
        "label=['TV Show',\"movie\"]\n",
        "df2.plot.pie( figsize=(6,8), colors=colour, fontsize=10,  explode=myexplode, autopct='%1.2f%%')\n",
        "plt.title('type of Netflix Content',fontweight=\"bold\")\n",
        "plt.legend(labels=label)\n",
        "plt.show()"
      ],
      "metadata": {
        "id": "JMcE9SJrpZp4",
        "colab": {
          "base_uri": "https://localhost:8080/",
          "height": 382
        },
        "outputId": "b084ac94-68ea-4295-d9f6-090f81525b0c"
      },
      "execution_count": 14,
      "outputs": [
        {
          "output_type": "display_data",
          "data": {
            "text/plain": [
              "<Figure size 432x576 with 1 Axes>"
            ],
            "image/png": "[encoded data removed]"
          },
          "metadata": {}
        }
      ]
    },
    {
      "cell_type": "code",
      "source": [
        "# Top 10 countries on Netflix\n",
        "plt.figure(figsize=(12,8))\n",
        "ax=sns.countplot(x='country',data=df1,order=df1['country'].value_counts().index[0:10])\n",
        "\n",
        "plt.title('Top 10 coutries',fontweight=\"bold\")\n",
        "plt.xlabel('Counts')\n",
        "plt.ylabel('Country Name')"
      ],
      "metadata": {
        "colab": {
          "base_uri": "https://localhost:8080/",
          "height": 530
        },
        "id": "BLw8Xu7Mch0V",
        "outputId": "f93f05a7-84c6-47ea-8a9c-dd31163838e2"
      },
      "execution_count": 15,
      "outputs": [
        {
          "output_type": "execute_result",
          "data": {
            "text/plain": [
              "Text(0, 0.5, 'Country Name')"
            ]
          },
          "metadata": {},
          "execution_count": 15
        },
        {
          "output_type": "display_data",
          "data": {
            "text/plain": [
              "<Figure size 864x576 with 1 Axes>"
            ],
            "image/png": "[encoded data removed]"
          },
          "metadata": {
            "needs_background": "light"
          }
        }
      ]
    },
    {
      "cell_type": "markdown",
      "source": [
        "**The United States has the most number of content on Netflix by a huge margin followed by India**"
      ],
      "metadata": {
        "id": "DSrYrPkNimjJ"
      }
    },
    {
      "cell_type": "code",
      "source": [
        "#Number of TV Shows and Movies content in top 10 countries with maximum content\n",
        "sns.set()\n",
        "plt.figure(figsize=(12,6))\n",
        "ax=sns.countplot(x=\"country\",data= df1,hue= \"type\",order = df1['country'].value_counts().index[0:10])\n",
        "plt.xticks(rotation=90)\n",
        "plt.xlabel('Country')\n",
        "plt.title(\"Number of TV Shows and Movies in top 10 countries\",fontweight=\"bold\")\n",
        "plt.show()"
      ],
      "metadata": {
        "colab": {
          "base_uri": "https://localhost:8080/",
          "height": 488
        },
        "id": "AIPPiWT_hCix",
        "outputId": "e2206832-ab2b-4c9d-c53f-67b1b2c4b809"
      },
      "execution_count": 16,
      "outputs": [
        {
          "output_type": "display_data",
          "data": {
            "text/plain": [
              "<Figure size 864x432 with 1 Axes>"
            ],
            "image/png": "[encoded data removed]"
          },
          "metadata": {}
        }
      ]
    },
    {
      "cell_type": "markdown",
      "source": [
        "**Most of the countries have more movies than TV shows but for South Korea and Japan it's the opposite. It maybe because KDramas and Anime are more popular in these two countries respectively.**"
      ],
      "metadata": {
        "id": "SoYW5xxkk1Ai"
      }
    },
    {
      "cell_type": "markdown",
      "source": [
        "**TOP 10 DIRECTORS**"
      ],
      "metadata": {
        "id": "MiGSCKQvldX9"
      }
    },
    {
      "cell_type": "code",
      "source": [
        "\n",
        "#removing unknown \n",
        "df3=df1.copy()\n",
        "\n",
        "df3=df3[df1['director']!='unknown']"
      ],
      "metadata": {
        "id": "YH9rSR-imLg9"
      },
      "execution_count": 17,
      "outputs": []
    },
    {
      "cell_type": "code",
      "source": [
        "#plot for top 10 director\n",
        "\n",
        "plt.figure(figsize = (14,6))\n",
        "sns.countplot(x='director',data=df3,order=df3.director.value_counts().head(10).index)\n",
        "plt.title('Director with most movies/shows',fontweight=\"bold\")\n",
        "plt.xticks(rotation = 90)\n",
        "plt.show()"
      ],
      "metadata": {
        "colab": {
          "base_uri": "https://localhost:8080/",
          "height": 529
        },
        "id": "eMEzaDCoi4PS",
        "outputId": "bdb97c82-9b0d-4dc4-a67e-34088c4e99e5"
      },
      "execution_count": 18,
      "outputs": [
        {
          "output_type": "display_data",
          "data": {
            "text/plain": [
              "<Figure size 1008x432 with 1 Axes>"
            ],
            "image/png": "[encoded data removed]"
          },
          "metadata": {}
        }
      ]
    },
    {
      "cell_type": "code",
      "source": [
        "#getting plot for top actors\n",
        "\n",
        "#splitting into list\n",
        "df1['cast_name'] = df1['cast'].apply(lambda x :  x.split(',')) \n",
        "cast_count = []\n",
        "#count movies for each actor\n",
        "for i in df1['cast_name']: \n",
        "   cast_count += i\n",
        "    \n",
        "cast_dict = dict((i, cast_count.count(i)) for i in cast_count)\n",
        "\n",
        "df_cast_count = pd.DataFrame(cast_dict.values(),cast_dict.keys()).reset_index().sort_values(0,ascending=False).rename( columns = {'index' : 'cast_name', 0 : 'count'}).iloc[1:11]\n",
        "\n",
        "plt.figure(figsize=(15,5))\n",
        "sns.barplot(x='cast_name',y='count',data=df_cast_count,palette=\"Dark2_r\")\n",
        "plt.title(\"Top 10 ACTORS on Netflix\",size='16',fontweight=\"bold\")\n",
        "plt.xlabel('Cast Name')\n",
        "plt.xticks(rotation=90)\n",
        "plt.show()"
      ],
      "metadata": {
        "id": "yXwes-36mTAj",
        "colab": {
          "base_uri": "https://localhost:8080/",
          "height": 441
        },
        "outputId": "1cf0aeeb-205d-4bfc-d9a5-d02dbcd9cbd9"
      },
      "execution_count": 19,
      "outputs": [
        {
          "output_type": "display_data",
          "data": {
            "text/plain": [
              "<Figure size 1080x360 with 1 Axes>"
            ],
            "image/png": "[encoded data removed]"
          },
          "metadata": {}
        }
      ]
    },
    {
      "cell_type": "code",
      "source": [],
      "metadata": {
        "id": "u448MOFwLjE8"
      },
      "execution_count": 19,
      "outputs": []
    }
  ]
}